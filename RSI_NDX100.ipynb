{
 "cells": [
  {
   "cell_type": "markdown",
   "metadata": {},
   "source": [
    "This notebook showcases how a simple RSI rule can outperform Buy & Hold in risk-adjusted performance\n",
    "\n",
    "Python 3.9.13"
   ]
  },
  {
   "cell_type": "code",
   "execution_count": 21,
   "metadata": {},
   "outputs": [],
   "source": [
    "import matplotlib.pyplot as plt\n",
    "import numpy as np\n",
    "import pandas as pd\n",
    "import pandas_ta as ta\n",
    "import plotly.graph_objects as go\n",
    "import yfinance as yf"
   ]
  },
  {
   "cell_type": "code",
   "execution_count": 22,
   "metadata": {},
   "outputs": [],
   "source": [
    "# globals\n",
    "ticker = \"^NDX\"\n",
    "rsi_days_length = 3\n",
    "rsi_threshold = 30\n",
    "risk_free_rate = 0.00"
   ]
  },
  {
   "cell_type": "code",
   "execution_count": 23,
   "metadata": {},
   "outputs": [
    {
     "name": "stderr",
     "output_type": "stream",
     "text": [
      "[*********************100%***********************]  1 of 1 completed\n"
     ]
    },
    {
     "data": {
      "text/html": [
       "<div>\n",
       "<style scoped>\n",
       "    .dataframe tbody tr th:only-of-type {\n",
       "        vertical-align: middle;\n",
       "    }\n",
       "\n",
       "    .dataframe tbody tr th {\n",
       "        vertical-align: top;\n",
       "    }\n",
       "\n",
       "    .dataframe thead th {\n",
       "        text-align: right;\n",
       "    }\n",
       "</style>\n",
       "<table border=\"1\" class=\"dataframe\">\n",
       "  <thead>\n",
       "    <tr style=\"text-align: right;\">\n",
       "      <th>Price</th>\n",
       "      <th>Adj Close</th>\n",
       "      <th>Close</th>\n",
       "      <th>High</th>\n",
       "      <th>Low</th>\n",
       "      <th>Open</th>\n",
       "      <th>Volume</th>\n",
       "    </tr>\n",
       "    <tr>\n",
       "      <th>Date</th>\n",
       "      <th></th>\n",
       "      <th></th>\n",
       "      <th></th>\n",
       "      <th></th>\n",
       "      <th></th>\n",
       "      <th></th>\n",
       "    </tr>\n",
       "  </thead>\n",
       "  <tbody>\n",
       "    <tr>\n",
       "      <th>1985-10-01 00:00:00+00:00</th>\n",
       "      <td>112.139999</td>\n",
       "      <td>112.139999</td>\n",
       "      <td>112.160004</td>\n",
       "      <td>110.565002</td>\n",
       "      <td>110.620003</td>\n",
       "      <td>153160000</td>\n",
       "    </tr>\n",
       "    <tr>\n",
       "      <th>1985-10-02 00:00:00+00:00</th>\n",
       "      <td>110.824997</td>\n",
       "      <td>110.824997</td>\n",
       "      <td>112.540001</td>\n",
       "      <td>110.779999</td>\n",
       "      <td>112.139999</td>\n",
       "      <td>164640000</td>\n",
       "    </tr>\n",
       "    <tr>\n",
       "      <th>1985-10-03 00:00:00+00:00</th>\n",
       "      <td>110.870003</td>\n",
       "      <td>110.870003</td>\n",
       "      <td>111.184998</td>\n",
       "      <td>110.120003</td>\n",
       "      <td>110.839996</td>\n",
       "      <td>147300000</td>\n",
       "    </tr>\n",
       "    <tr>\n",
       "      <th>1985-10-04 00:00:00+00:00</th>\n",
       "      <td>110.074997</td>\n",
       "      <td>110.074997</td>\n",
       "      <td>110.870003</td>\n",
       "      <td>109.855003</td>\n",
       "      <td>110.870003</td>\n",
       "      <td>147900000</td>\n",
       "    </tr>\n",
       "    <tr>\n",
       "      <th>1985-10-07 00:00:00+00:00</th>\n",
       "      <td>108.199997</td>\n",
       "      <td>108.199997</td>\n",
       "      <td>110.135002</td>\n",
       "      <td>108.175003</td>\n",
       "      <td>110.074997</td>\n",
       "      <td>128640000</td>\n",
       "    </tr>\n",
       "    <tr>\n",
       "      <th>...</th>\n",
       "      <td>...</td>\n",
       "      <td>...</td>\n",
       "      <td>...</td>\n",
       "      <td>...</td>\n",
       "      <td>...</td>\n",
       "      <td>...</td>\n",
       "    </tr>\n",
       "    <tr>\n",
       "      <th>2024-10-28 00:00:00+00:00</th>\n",
       "      <td>20351.070312</td>\n",
       "      <td>20351.070312</td>\n",
       "      <td>20470.429688</td>\n",
       "      <td>20344.820312</td>\n",
       "      <td>20455.009766</td>\n",
       "      <td>5641660000</td>\n",
       "    </tr>\n",
       "    <tr>\n",
       "      <th>2024-10-29 00:00:00+00:00</th>\n",
       "      <td>20550.650391</td>\n",
       "      <td>20550.650391</td>\n",
       "      <td>20600.099609</td>\n",
       "      <td>20294.580078</td>\n",
       "      <td>20369.080078</td>\n",
       "      <td>6881170000</td>\n",
       "    </tr>\n",
       "    <tr>\n",
       "      <th>2024-10-30 00:00:00+00:00</th>\n",
       "      <td>20387.699219</td>\n",
       "      <td>20387.699219</td>\n",
       "      <td>20559.519531</td>\n",
       "      <td>20378.750000</td>\n",
       "      <td>20510.919922</td>\n",
       "      <td>6514690000</td>\n",
       "    </tr>\n",
       "    <tr>\n",
       "      <th>2024-10-31 00:00:00+00:00</th>\n",
       "      <td>19890.419922</td>\n",
       "      <td>19890.419922</td>\n",
       "      <td>20227.189453</td>\n",
       "      <td>19880.259766</td>\n",
       "      <td>20227.189453</td>\n",
       "      <td>6411940000</td>\n",
       "    </tr>\n",
       "    <tr>\n",
       "      <th>2024-11-01 00:00:00+00:00</th>\n",
       "      <td>20033.140625</td>\n",
       "      <td>20033.140625</td>\n",
       "      <td>20162.539062</td>\n",
       "      <td>19950.990234</td>\n",
       "      <td>19955.830078</td>\n",
       "      <td>5896470000</td>\n",
       "    </tr>\n",
       "  </tbody>\n",
       "</table>\n",
       "<p>9852 rows × 6 columns</p>\n",
       "</div>"
      ],
      "text/plain": [
       "Price                         Adj Close         Close          High  \\\n",
       "Date                                                                  \n",
       "1985-10-01 00:00:00+00:00    112.139999    112.139999    112.160004   \n",
       "1985-10-02 00:00:00+00:00    110.824997    110.824997    112.540001   \n",
       "1985-10-03 00:00:00+00:00    110.870003    110.870003    111.184998   \n",
       "1985-10-04 00:00:00+00:00    110.074997    110.074997    110.870003   \n",
       "1985-10-07 00:00:00+00:00    108.199997    108.199997    110.135002   \n",
       "...                                 ...           ...           ...   \n",
       "2024-10-28 00:00:00+00:00  20351.070312  20351.070312  20470.429688   \n",
       "2024-10-29 00:00:00+00:00  20550.650391  20550.650391  20600.099609   \n",
       "2024-10-30 00:00:00+00:00  20387.699219  20387.699219  20559.519531   \n",
       "2024-10-31 00:00:00+00:00  19890.419922  19890.419922  20227.189453   \n",
       "2024-11-01 00:00:00+00:00  20033.140625  20033.140625  20162.539062   \n",
       "\n",
       "Price                               Low          Open      Volume  \n",
       "Date                                                               \n",
       "1985-10-01 00:00:00+00:00    110.565002    110.620003   153160000  \n",
       "1985-10-02 00:00:00+00:00    110.779999    112.139999   164640000  \n",
       "1985-10-03 00:00:00+00:00    110.120003    110.839996   147300000  \n",
       "1985-10-04 00:00:00+00:00    109.855003    110.870003   147900000  \n",
       "1985-10-07 00:00:00+00:00    108.175003    110.074997   128640000  \n",
       "...                                 ...           ...         ...  \n",
       "2024-10-28 00:00:00+00:00  20344.820312  20455.009766  5641660000  \n",
       "2024-10-29 00:00:00+00:00  20294.580078  20369.080078  6881170000  \n",
       "2024-10-30 00:00:00+00:00  20378.750000  20510.919922  6514690000  \n",
       "2024-10-31 00:00:00+00:00  19880.259766  20227.189453  6411940000  \n",
       "2024-11-01 00:00:00+00:00  19950.990234  19955.830078  5896470000  \n",
       "\n",
       "[9852 rows x 6 columns]"
      ]
     },
     "execution_count": 23,
     "metadata": {},
     "output_type": "execute_result"
    }
   ],
   "source": [
    "# Retrieve the maximum available historical data for daily frequency\n",
    "data = yf.download(ticker, interval=\"1d\", period=\"max\")\n",
    "data.columns = data.columns.droplevel(\"Ticker\")\n",
    "data"
   ]
  },
  {
   "cell_type": "code",
   "execution_count": 24,
   "metadata": {},
   "outputs": [
    {
     "data": {
      "text/html": [
       "<div>\n",
       "<style scoped>\n",
       "    .dataframe tbody tr th:only-of-type {\n",
       "        vertical-align: middle;\n",
       "    }\n",
       "\n",
       "    .dataframe tbody tr th {\n",
       "        vertical-align: top;\n",
       "    }\n",
       "\n",
       "    .dataframe thead th {\n",
       "        text-align: right;\n",
       "    }\n",
       "</style>\n",
       "<table border=\"1\" class=\"dataframe\">\n",
       "  <thead>\n",
       "    <tr style=\"text-align: right;\">\n",
       "      <th>Price</th>\n",
       "      <th>Adj Close</th>\n",
       "      <th>Close</th>\n",
       "      <th>High</th>\n",
       "      <th>Low</th>\n",
       "      <th>Open</th>\n",
       "      <th>Volume</th>\n",
       "      <th>RSI</th>\n",
       "      <th>exit_condition</th>\n",
       "      <th>entry_condition</th>\n",
       "      <th>Position</th>\n",
       "      <th>Daily Return</th>\n",
       "      <th>Strategy Return</th>\n",
       "      <th>Strategy Cumulative</th>\n",
       "      <th>Benchmark Cumulative</th>\n",
       "    </tr>\n",
       "    <tr>\n",
       "      <th>Date</th>\n",
       "      <th></th>\n",
       "      <th></th>\n",
       "      <th></th>\n",
       "      <th></th>\n",
       "      <th></th>\n",
       "      <th></th>\n",
       "      <th></th>\n",
       "      <th></th>\n",
       "      <th></th>\n",
       "      <th></th>\n",
       "      <th></th>\n",
       "      <th></th>\n",
       "      <th></th>\n",
       "      <th></th>\n",
       "    </tr>\n",
       "  </thead>\n",
       "  <tbody>\n",
       "    <tr>\n",
       "      <th>1985-10-01 00:00:00+00:00</th>\n",
       "      <td>112.139999</td>\n",
       "      <td>112.139999</td>\n",
       "      <td>112.160004</td>\n",
       "      <td>110.565002</td>\n",
       "      <td>110.620003</td>\n",
       "      <td>153160000</td>\n",
       "      <td>NaN</td>\n",
       "      <td>False</td>\n",
       "      <td>False</td>\n",
       "      <td>0.0</td>\n",
       "      <td>NaN</td>\n",
       "      <td>NaN</td>\n",
       "      <td>NaN</td>\n",
       "      <td>NaN</td>\n",
       "    </tr>\n",
       "    <tr>\n",
       "      <th>1985-10-02 00:00:00+00:00</th>\n",
       "      <td>110.824997</td>\n",
       "      <td>110.824997</td>\n",
       "      <td>112.540001</td>\n",
       "      <td>110.779999</td>\n",
       "      <td>112.139999</td>\n",
       "      <td>164640000</td>\n",
       "      <td>NaN</td>\n",
       "      <td>False</td>\n",
       "      <td>False</td>\n",
       "      <td>0.0</td>\n",
       "      <td>-0.011726</td>\n",
       "      <td>-0.000000</td>\n",
       "      <td>1.000000</td>\n",
       "      <td>0.988274</td>\n",
       "    </tr>\n",
       "    <tr>\n",
       "      <th>1985-10-03 00:00:00+00:00</th>\n",
       "      <td>110.870003</td>\n",
       "      <td>110.870003</td>\n",
       "      <td>111.184998</td>\n",
       "      <td>110.120003</td>\n",
       "      <td>110.839996</td>\n",
       "      <td>147300000</td>\n",
       "      <td>NaN</td>\n",
       "      <td>False</td>\n",
       "      <td>False</td>\n",
       "      <td>0.0</td>\n",
       "      <td>0.000406</td>\n",
       "      <td>0.000000</td>\n",
       "      <td>1.000000</td>\n",
       "      <td>0.988675</td>\n",
       "    </tr>\n",
       "    <tr>\n",
       "      <th>1985-10-04 00:00:00+00:00</th>\n",
       "      <td>110.074997</td>\n",
       "      <td>110.074997</td>\n",
       "      <td>110.870003</td>\n",
       "      <td>109.855003</td>\n",
       "      <td>110.870003</td>\n",
       "      <td>147900000</td>\n",
       "      <td>2.128756</td>\n",
       "      <td>False</td>\n",
       "      <td>True</td>\n",
       "      <td>1.0</td>\n",
       "      <td>-0.007171</td>\n",
       "      <td>-0.000000</td>\n",
       "      <td>1.000000</td>\n",
       "      <td>0.981585</td>\n",
       "    </tr>\n",
       "    <tr>\n",
       "      <th>1985-10-07 00:00:00+00:00</th>\n",
       "      <td>108.199997</td>\n",
       "      <td>108.199997</td>\n",
       "      <td>110.135002</td>\n",
       "      <td>108.175003</td>\n",
       "      <td>110.074997</td>\n",
       "      <td>128640000</td>\n",
       "      <td>0.710663</td>\n",
       "      <td>False</td>\n",
       "      <td>True</td>\n",
       "      <td>1.0</td>\n",
       "      <td>-0.017034</td>\n",
       "      <td>-0.017034</td>\n",
       "      <td>0.982966</td>\n",
       "      <td>0.964865</td>\n",
       "    </tr>\n",
       "    <tr>\n",
       "      <th>...</th>\n",
       "      <td>...</td>\n",
       "      <td>...</td>\n",
       "      <td>...</td>\n",
       "      <td>...</td>\n",
       "      <td>...</td>\n",
       "      <td>...</td>\n",
       "      <td>...</td>\n",
       "      <td>...</td>\n",
       "      <td>...</td>\n",
       "      <td>...</td>\n",
       "      <td>...</td>\n",
       "      <td>...</td>\n",
       "      <td>...</td>\n",
       "      <td>...</td>\n",
       "    </tr>\n",
       "    <tr>\n",
       "      <th>2024-10-28 00:00:00+00:00</th>\n",
       "      <td>20351.070312</td>\n",
       "      <td>20351.070312</td>\n",
       "      <td>20470.429688</td>\n",
       "      <td>20344.820312</td>\n",
       "      <td>20455.009766</td>\n",
       "      <td>5641660000</td>\n",
       "      <td>63.502208</td>\n",
       "      <td>False</td>\n",
       "      <td>False</td>\n",
       "      <td>0.0</td>\n",
       "      <td>-0.000047</td>\n",
       "      <td>-0.000000</td>\n",
       "      <td>82.274869</td>\n",
       "      <td>181.479137</td>\n",
       "    </tr>\n",
       "    <tr>\n",
       "      <th>2024-10-29 00:00:00+00:00</th>\n",
       "      <td>20550.650391</td>\n",
       "      <td>20550.650391</td>\n",
       "      <td>20600.099609</td>\n",
       "      <td>20294.580078</td>\n",
       "      <td>20369.080078</td>\n",
       "      <td>6881170000</td>\n",
       "      <td>82.116684</td>\n",
       "      <td>True</td>\n",
       "      <td>False</td>\n",
       "      <td>0.0</td>\n",
       "      <td>0.009807</td>\n",
       "      <td>0.000000</td>\n",
       "      <td>82.274869</td>\n",
       "      <td>183.258877</td>\n",
       "    </tr>\n",
       "    <tr>\n",
       "      <th>2024-10-30 00:00:00+00:00</th>\n",
       "      <td>20387.699219</td>\n",
       "      <td>20387.699219</td>\n",
       "      <td>20559.519531</td>\n",
       "      <td>20378.750000</td>\n",
       "      <td>20510.919922</td>\n",
       "      <td>6514690000</td>\n",
       "      <td>50.545168</td>\n",
       "      <td>False</td>\n",
       "      <td>False</td>\n",
       "      <td>0.0</td>\n",
       "      <td>-0.007929</td>\n",
       "      <td>-0.000000</td>\n",
       "      <td>82.274869</td>\n",
       "      <td>181.805773</td>\n",
       "    </tr>\n",
       "    <tr>\n",
       "      <th>2024-10-31 00:00:00+00:00</th>\n",
       "      <td>19890.419922</td>\n",
       "      <td>19890.419922</td>\n",
       "      <td>20227.189453</td>\n",
       "      <td>19880.259766</td>\n",
       "      <td>20227.189453</td>\n",
       "      <td>6411940000</td>\n",
       "      <td>18.313856</td>\n",
       "      <td>False</td>\n",
       "      <td>True</td>\n",
       "      <td>1.0</td>\n",
       "      <td>-0.024391</td>\n",
       "      <td>-0.000000</td>\n",
       "      <td>82.274869</td>\n",
       "      <td>177.371322</td>\n",
       "    </tr>\n",
       "    <tr>\n",
       "      <th>2024-11-01 00:00:00+00:00</th>\n",
       "      <td>20033.140625</td>\n",
       "      <td>20033.140625</td>\n",
       "      <td>20162.539062</td>\n",
       "      <td>19950.990234</td>\n",
       "      <td>19955.830078</td>\n",
       "      <td>5896470000</td>\n",
       "      <td>35.908378</td>\n",
       "      <td>False</td>\n",
       "      <td>False</td>\n",
       "      <td>1.0</td>\n",
       "      <td>0.007175</td>\n",
       "      <td>0.007175</td>\n",
       "      <td>82.865219</td>\n",
       "      <td>178.644023</td>\n",
       "    </tr>\n",
       "  </tbody>\n",
       "</table>\n",
       "<p>9852 rows × 14 columns</p>\n",
       "</div>"
      ],
      "text/plain": [
       "Price                         Adj Close         Close          High  \\\n",
       "Date                                                                  \n",
       "1985-10-01 00:00:00+00:00    112.139999    112.139999    112.160004   \n",
       "1985-10-02 00:00:00+00:00    110.824997    110.824997    112.540001   \n",
       "1985-10-03 00:00:00+00:00    110.870003    110.870003    111.184998   \n",
       "1985-10-04 00:00:00+00:00    110.074997    110.074997    110.870003   \n",
       "1985-10-07 00:00:00+00:00    108.199997    108.199997    110.135002   \n",
       "...                                 ...           ...           ...   \n",
       "2024-10-28 00:00:00+00:00  20351.070312  20351.070312  20470.429688   \n",
       "2024-10-29 00:00:00+00:00  20550.650391  20550.650391  20600.099609   \n",
       "2024-10-30 00:00:00+00:00  20387.699219  20387.699219  20559.519531   \n",
       "2024-10-31 00:00:00+00:00  19890.419922  19890.419922  20227.189453   \n",
       "2024-11-01 00:00:00+00:00  20033.140625  20033.140625  20162.539062   \n",
       "\n",
       "Price                               Low          Open      Volume        RSI  \\\n",
       "Date                                                                           \n",
       "1985-10-01 00:00:00+00:00    110.565002    110.620003   153160000        NaN   \n",
       "1985-10-02 00:00:00+00:00    110.779999    112.139999   164640000        NaN   \n",
       "1985-10-03 00:00:00+00:00    110.120003    110.839996   147300000        NaN   \n",
       "1985-10-04 00:00:00+00:00    109.855003    110.870003   147900000   2.128756   \n",
       "1985-10-07 00:00:00+00:00    108.175003    110.074997   128640000   0.710663   \n",
       "...                                 ...           ...         ...        ...   \n",
       "2024-10-28 00:00:00+00:00  20344.820312  20455.009766  5641660000  63.502208   \n",
       "2024-10-29 00:00:00+00:00  20294.580078  20369.080078  6881170000  82.116684   \n",
       "2024-10-30 00:00:00+00:00  20378.750000  20510.919922  6514690000  50.545168   \n",
       "2024-10-31 00:00:00+00:00  19880.259766  20227.189453  6411940000  18.313856   \n",
       "2024-11-01 00:00:00+00:00  19950.990234  19955.830078  5896470000  35.908378   \n",
       "\n",
       "Price                      exit_condition  entry_condition  Position  \\\n",
       "Date                                                                   \n",
       "1985-10-01 00:00:00+00:00           False            False       0.0   \n",
       "1985-10-02 00:00:00+00:00           False            False       0.0   \n",
       "1985-10-03 00:00:00+00:00           False            False       0.0   \n",
       "1985-10-04 00:00:00+00:00           False             True       1.0   \n",
       "1985-10-07 00:00:00+00:00           False             True       1.0   \n",
       "...                                   ...              ...       ...   \n",
       "2024-10-28 00:00:00+00:00           False            False       0.0   \n",
       "2024-10-29 00:00:00+00:00            True            False       0.0   \n",
       "2024-10-30 00:00:00+00:00           False            False       0.0   \n",
       "2024-10-31 00:00:00+00:00           False             True       1.0   \n",
       "2024-11-01 00:00:00+00:00           False            False       1.0   \n",
       "\n",
       "Price                      Daily Return  Strategy Return  Strategy Cumulative  \\\n",
       "Date                                                                            \n",
       "1985-10-01 00:00:00+00:00           NaN              NaN                  NaN   \n",
       "1985-10-02 00:00:00+00:00     -0.011726        -0.000000             1.000000   \n",
       "1985-10-03 00:00:00+00:00      0.000406         0.000000             1.000000   \n",
       "1985-10-04 00:00:00+00:00     -0.007171        -0.000000             1.000000   \n",
       "1985-10-07 00:00:00+00:00     -0.017034        -0.017034             0.982966   \n",
       "...                                 ...              ...                  ...   \n",
       "2024-10-28 00:00:00+00:00     -0.000047        -0.000000            82.274869   \n",
       "2024-10-29 00:00:00+00:00      0.009807         0.000000            82.274869   \n",
       "2024-10-30 00:00:00+00:00     -0.007929        -0.000000            82.274869   \n",
       "2024-10-31 00:00:00+00:00     -0.024391        -0.000000            82.274869   \n",
       "2024-11-01 00:00:00+00:00      0.007175         0.007175            82.865219   \n",
       "\n",
       "Price                      Benchmark Cumulative  \n",
       "Date                                             \n",
       "1985-10-01 00:00:00+00:00                   NaN  \n",
       "1985-10-02 00:00:00+00:00              0.988274  \n",
       "1985-10-03 00:00:00+00:00              0.988675  \n",
       "1985-10-04 00:00:00+00:00              0.981585  \n",
       "1985-10-07 00:00:00+00:00              0.964865  \n",
       "...                                         ...  \n",
       "2024-10-28 00:00:00+00:00            181.479137  \n",
       "2024-10-29 00:00:00+00:00            183.258877  \n",
       "2024-10-30 00:00:00+00:00            181.805773  \n",
       "2024-10-31 00:00:00+00:00            177.371322  \n",
       "2024-11-01 00:00:00+00:00            178.644023  \n",
       "\n",
       "[9852 rows x 14 columns]"
      ]
     },
     "execution_count": 24,
     "metadata": {},
     "output_type": "execute_result"
    }
   ],
   "source": [
    "# strategy logic\n",
    "def create_strategy(data):\n",
    "    data['RSI'] = ta.rsi(data['Adj Close'], length=rsi_days_length)  # You can adjust the length if needed\n",
    "    data[\"exit_condition\"] = data['Adj Close'] > data['High'].shift(1)\n",
    "    data[\"entry_condition\"] = (data['RSI'] < rsi_threshold)\n",
    "\n",
    "    position_array = np.zeros(len(data))\n",
    "\n",
    "    # Initialize in_position flag\n",
    "    in_position = False\n",
    "\n",
    "    # Loop through the DataFrame to update positions\n",
    "    for i in range(1, len(data)):\n",
    "        if not in_position and data['entry_condition'].iloc[i]:\n",
    "            position_array[i] = 1  # Enter position\n",
    "            in_position = True\n",
    "        elif in_position and data['exit_condition'].iloc[i]:\n",
    "            position_array[i] = 0  # Exit position\n",
    "            in_position = False\n",
    "        else:\n",
    "            position_array[i] = position_array[i-1]  # Maintain position\n",
    "\n",
    "    # Assign the updated position_array to the Position column\n",
    "    data['Position'] = position_array\n",
    "\n",
    "    # Calculate daily returns and strategy returns\n",
    "    data['Daily Return'] = data['Adj Close'].pct_change()\n",
    "    data['Strategy Return'] = data['Position'].shift(1) * data['Daily Return']\n",
    "\n",
    "    # Calculate cumulative returns for strategy and benchmark (buy-and-hold)\n",
    "    data['Strategy Cumulative'] = (1 + data['Strategy Return']).cumprod()\n",
    "    data['Benchmark Cumulative'] = (1 + data['Daily Return']).cumprod()\n",
    "\n",
    "    return data\n",
    "\n",
    "strategy_df = create_strategy(data)\n",
    "strategy_df"
   ]
  },
  {
   "cell_type": "code",
   "execution_count": 25,
   "metadata": {},
   "outputs": [],
   "source": [
    "# Calculate key performance metrics\n",
    "def calculate_performace_stats(strategy_df):\n",
    "\n",
    "    strategy_df['Strategy Excess Return'] = strategy_df['Strategy Return'] - risk_free_rate\n",
    "    strategy_tr = strategy_df['Strategy Cumulative'].iloc[-1] - 1\n",
    "    strategy_ar = (strategy_df['Strategy Cumulative'].iloc[-1] ** (252 / len(strategy_df)) - 1)/100\n",
    "    strategy_max_dd = (strategy_df['Strategy Cumulative'] / strategy_df['Strategy Cumulative'].cummax() - 1).min()\n",
    "    excess_return_std = strategy_df['Strategy Excess Return'].std()\n",
    "    if excess_return_std > 0:  # Avoid division by zero\n",
    "        strategy_sr = strategy_ar / excess_return_std * np.sqrt(252)\n",
    "    else:\n",
    "        strategy_sr = 0  # or a default value, as applicable\n",
    "\n",
    "    return strategy_tr, strategy_ar, strategy_max_dd, strategy_sr\n",
    "\n",
    "strategy_df['Benchmark Excess Return'] = strategy_df['Daily Return'] - risk_free_rate\n",
    "benchmark_total_return = strategy_df['Benchmark Cumulative'].iloc[-1] - 1\n",
    "benchmark_annualized_return = (strategy_df['Benchmark Cumulative'].iloc[-1] ** (252 / len(strategy_df)) - 1)/100\n",
    "benchmark_max_drawdown = (strategy_df['Benchmark Cumulative'] / strategy_df['Benchmark Cumulative'].cummax() - 1).min()\n",
    "benchmark_sharpe_ratio = (benchmark_annualized_return) / strategy_df['Benchmark Excess Return'].std() * np.sqrt(252)\n",
    "strategy_tr, strategy_ar, strategy_max_dd, strategy_sr = calculate_performace_stats(strategy_df)"
   ]
  },
  {
   "cell_type": "code",
   "execution_count": 26,
   "metadata": {},
   "outputs": [
    {
     "data": {
      "image/png": "[encoded data removed]",
      "text/plain": [
       "<Figure size 800x400 with 1 Axes>"
      ]
     },
     "metadata": {},
     "output_type": "display_data"
    },
    {
     "name": "stdout",
     "output_type": "stream",
     "text": [
      "Strategy Total Return: 8186.52%\n",
      "Strategy Annualized Return: 0.12%\n",
      "Strategy Max Drawdown: -43.29%\n",
      "Strategy Sharpe Ratio: 1.75\n",
      "Benchmark Total Return: 17764.40%\n",
      "Benchmark Annualized Return: 0.14%\n",
      "Benchmark Max Drawdown: -82.90%\n",
      "Benchmark Sharpe Ratio: 1.37\n"
     ]
    }
   ],
   "source": [
    "# Plot cumulative returns\n",
    "plt.figure(figsize=(8, 4))\n",
    "plt.plot(strategy_df['Strategy Cumulative'], label='Strategy')\n",
    "plt.plot(strategy_df['Benchmark Cumulative'], label='Benchmark', linestyle='--')\n",
    "plt.title(f\"Cumulative Returns: RSI < {rsi_threshold}, {rsi_days_length}-Days, Strategy vs. Benchmark\")\n",
    "plt.xlabel(\"Date\")\n",
    "plt.ylabel(\"Cumulative Return\")\n",
    "plt.legend()\n",
    "plt.grid(linestyle=\"--\",alpha=0.3)\n",
    "plt.show()\n",
    "\n",
    "# Print key performance metrics\n",
    "print(f\"Strategy Total Return: {strategy_tr:.2%}\")\n",
    "print(f\"Strategy Annualized Return: {strategy_ar:.2%}\")\n",
    "print(f\"Strategy Max Drawdown: {strategy_max_dd:.2%}\")\n",
    "print(f\"Strategy Sharpe Ratio: {strategy_sr:.2f}\")\n",
    "print(f\"Benchmark Total Return: {benchmark_total_return:.2%}\")\n",
    "print(f\"Benchmark Annualized Return: {benchmark_annualized_return:.2%}\")\n",
    "print(f\"Benchmark Max Drawdown: {benchmark_max_drawdown:.2%}\")\n",
    "print(f\"Benchmark Sharpe Ratio: {benchmark_sharpe_ratio:.2f}\")"
   ]
  },
  {
   "cell_type": "markdown",
   "metadata": {},
   "source": [
    "# Optimization"
   ]
  },
  {
   "cell_type": "code",
   "execution_count": 27,
   "metadata": {},
   "outputs": [],
   "source": [
    "rsi_days_lengths = [2, 3, 5, 10, 14, 20]\n",
    "rsi_thresholds = [5, 10, 15, 20, 25, 30, 40, 50, 60, 70]\n",
    "sharpe_ratios = np.zeros((len(rsi_days_lengths), len(rsi_thresholds)))\n",
    "for i, rsi_days_length in enumerate(rsi_days_lengths):\n",
    "    for j, rsi_threshold in enumerate(rsi_thresholds):\n",
    "        strategy_df = create_strategy(data)\n",
    "        strategy_tr, strategy_ar, strategy_max_dd, strategy_sr = calculate_performace_stats(strategy_df)\n",
    "        sharpe_ratios[i, j] = strategy_sr\n",
    "X, Y = np.meshgrid(rsi_thresholds, rsi_days_lengths)"
   ]
  },
  {
   "cell_type": "code",
   "execution_count": 28,
   "metadata": {},
   "outputs": [
    {
     "data": {
      "application/vnd.plotly.v1+json": {
       "config": {
        "plotlyServerURL": "https://plot.ly"
       },
       "data": [
        {
         "type": "surface",
         "x": [
          5,
          10,
          15,
          20,
          25,
          30,
          40,
          50,
          60,
          70
         ],
         "y": [
          2,
          3,
          5,
          10,
          14,
          20
         ],
         "z": [
          [
           1.7386758408383258,
           1.803605366856673,
           1.7842026160063615,
           1.7796549875044159,
           1.643365349209584,
           1.5298336360988427,
           1.2810178732437183,
           1.139791447815385,
           1.0503854931823946,
           1.1074598437926342
          ],
          [
           0.8729286331551039,
           1.655554271483774,
           2.0921812251923053,
           1.7367922713127872,
           1.6311833106283937,
           1.7465039375902733,
           1.4998267989912226,
           1.1774817131939437,
           1.0455911425941422,
           1.0822066690715113
          ],
          [
           0.25760698768278767,
           0.5078103563882627,
           1.2871871025758823,
           1.715412671215487,
           1.9686902885154685,
           1.7088391850513793,
           1.3094252044727737,
           1.1989125559873302,
           1.0142873980022105,
           1.1957592265710029
          ],
          [
           0,
           0.5177544788949552,
           0.34673496573929363,
           0.3663057906339829,
           1.1369607316481343,
           1.5064529992452005,
           1.1990015648088996,
           0.9689678523151917,
           1.0519235221859187,
           1.0624578884108313
          ],
          [
           0,
           0,
           0.06297965655082974,
           0.6257681083270102,
           0.47815867006655655,
           0.953329597644727,
           0.7339663639834977,
           0.8005052229450642,
           1.061728366867075,
           1.0851529465545608
          ],
          [
           0,
           0,
           0,
           0.2972502248555906,
           0.6376819313182582,
           0.5682062832272333,
           1.0764706338851502,
           0.8875200245152819,
           1.095906162776719,
           1.1411955937813052
          ]
         ]
        }
       ],
       "layout": {
        "margin": {
         "b": 60,
         "l": 60,
         "r": 20,
         "t": 40
        },
        "scene": {
         "camera": {
          "eye": {
           "x": 1.5,
           "y": 1.5,
           "z": 1.5
          }
         },
         "xaxis": {
          "title": {
           "text": "RSI Thresholds"
          }
         },
         "yaxis": {
          "title": {
           "text": "RSI Days Lengths"
          }
         },
         "zaxis": {
          "title": {
           "text": "Sharpe Ratio"
          }
         }
        },
        "template": {
         "data": {
          "bar": [
           {
            "error_x": {
             "color": "#2a3f5f"
            },
            "error_y": {
             "color": "#2a3f5f"
            },
            "marker": {
             "line": {
              "color": "#E5ECF6",
              "width": 0.5
             },
             "pattern": {
              "fillmode": "overlay",
              "size": 10,
              "solidity": 0.2
             }
            },
            "type": "bar"
           }
          ],
          "barpolar": [
           {
            "marker": {
             "line": {
              "color": "#E5ECF6",
              "width": 0.5
             },
             "pattern": {
              "fillmode": "overlay",
              "size": 10,
              "solidity": 0.2
             }
            },
            "type": "barpolar"
           }
          ],
          "carpet": [
           {
            "aaxis": {
             "endlinecolor": "#2a3f5f",
             "gridcolor": "white",
             "linecolor": "white",
             "minorgridcolor": "white",
             "startlinecolor": "#2a3f5f"
            },
            "baxis": {
             "endlinecolor": "#2a3f5f",
             "gridcolor": "white",
             "linecolor": "white",
             "minorgridcolor": "white",
             "startlinecolor": "#2a3f5f"
            },
            "type": "carpet"
           }
          ],
          "choropleth": [
           {
            "colorbar": {
             "outlinewidth": 0,
             "ticks": ""
            },
            "type": "choropleth"
           }
          ],
          "contour": [
           {
            "colorbar": {
             "outlinewidth": 0,
             "ticks": ""
            },
            "colorscale": [
             [
              0,
              "#0d0887"
             ],
             [
              0.1111111111111111,
              "#46039f"
             ],
             [
              0.2222222222222222,
              "#7201a8"
             ],
             [
              0.3333333333333333,
              "#9c179e"
             ],
             [
              0.4444444444444444,
              "#bd3786"
             ],
             [
              0.5555555555555556,
              "#d8576b"
             ],
             [
              0.6666666666666666,
              "#ed7953"
             ],
             [
              0.7777777777777778,
              "#fb9f3a"
             ],
             [
              0.8888888888888888,
              "#fdca26"
             ],
             [
              1,
              "#f0f921"
             ]
            ],
            "type": "contour"
           }
          ],
          "contourcarpet": [
           {
            "colorbar": {
             "outlinewidth": 0,
             "ticks": ""
            },
            "type": "contourcarpet"
           }
          ],
          "heatmap": [
           {
            "colorbar": {
             "outlinewidth": 0,
             "ticks": ""
            },
            "colorscale": [
             [
              0,
              "#0d0887"
             ],
             [
              0.1111111111111111,
              "#46039f"
             ],
             [
              0.2222222222222222,
              "#7201a8"
             ],
             [
              0.3333333333333333,
              "#9c179e"
             ],
             [
              0.4444444444444444,
              "#bd3786"
             ],
             [
              0.5555555555555556,
              "#d8576b"
             ],
             [
              0.6666666666666666,
              "#ed7953"
             ],
             [
              0.7777777777777778,
              "#fb9f3a"
             ],
             [
              0.8888888888888888,
              "#fdca26"
             ],
             [
              1,
              "#f0f921"
             ]
            ],
            "type": "heatmap"
           }
          ],
          "heatmapgl": [
           {
            "colorbar": {
             "outlinewidth": 0,
             "ticks": ""
            },
            "colorscale": [
             [
              0,
              "#0d0887"
             ],
             [
              0.1111111111111111,
              "#46039f"
             ],
             [
              0.2222222222222222,
              "#7201a8"
             ],
             [
              0.3333333333333333,
              "#9c179e"
             ],
             [
              0.4444444444444444,
              "#bd3786"
             ],
             [
              0.5555555555555556,
              "#d8576b"
             ],
             [
              0.6666666666666666,
              "#ed7953"
             ],
             [
              0.7777777777777778,
              "#fb9f3a"
             ],
             [
              0.8888888888888888,
              "#fdca26"
             ],
             [
              1,
              "#f0f921"
             ]
            ],
            "type": "heatmapgl"
           }
          ],
          "histogram": [
           {
            "marker": {
             "pattern": {
              "fillmode": "overlay",
              "size": 10,
              "solidity": 0.2
             }
            },
            "type": "histogram"
           }
          ],
          "histogram2d": [
           {
            "colorbar": {
             "outlinewidth": 0,
             "ticks": ""
            },
            "colorscale": [
             [
              0,
              "#0d0887"
             ],
             [
              0.1111111111111111,
              "#46039f"
             ],
             [
              0.2222222222222222,
              "#7201a8"
             ],
             [
              0.3333333333333333,
              "#9c179e"
             ],
             [
              0.4444444444444444,
              "#bd3786"
             ],
             [
              0.5555555555555556,
              "#d8576b"
             ],
             [
              0.6666666666666666,
              "#ed7953"
             ],
             [
              0.7777777777777778,
              "#fb9f3a"
             ],
             [
              0.8888888888888888,
              "#fdca26"
             ],
             [
              1,
              "#f0f921"
             ]
            ],
            "type": "histogram2d"
           }
          ],
          "histogram2dcontour": [
           {
            "colorbar": {
             "outlinewidth": 0,
             "ticks": ""
            },
            "colorscale": [
             [
              0,
              "#0d0887"
             ],
             [
              0.1111111111111111,
              "#46039f"
             ],
             [
              0.2222222222222222,
              "#7201a8"
             ],
             [
              0.3333333333333333,
              "#9c179e"
             ],
             [
              0.4444444444444444,
              "#bd3786"
             ],
             [
              0.5555555555555556,
              "#d8576b"
             ],
             [
              0.6666666666666666,
              "#ed7953"
             ],
             [
              0.7777777777777778,
              "#fb9f3a"
             ],
             [
              0.8888888888888888,
              "#fdca26"
             ],
             [
              1,
              "#f0f921"
             ]
            ],
            "type": "histogram2dcontour"
           }
          ],
          "mesh3d": [
           {
            "colorbar": {
             "outlinewidth": 0,
             "ticks": ""
            },
            "type": "mesh3d"
           }
          ],
          "parcoords": [
           {
            "line": {
             "colorbar": {
              "outlinewidth": 0,
              "ticks": ""
             }
            },
            "type": "parcoords"
           }
          ],
          "pie": [
           {
            "automargin": true,
            "type": "pie"
           }
          ],
          "scatter": [
           {
            "fillpattern": {
             "fillmode": "overlay",
             "size": 10,
             "solidity": 0.2
            },
            "type": "scatter"
           }
          ],
          "scatter3d": [
           {
            "line": {
             "colorbar": {
              "outlinewidth": 0,
              "ticks": ""
             }
            },
            "marker": {
             "colorbar": {
              "outlinewidth": 0,
              "ticks": ""
             }
            },
            "type": "scatter3d"
           }
          ],
          "scattercarpet": [
           {
            "marker": {
             "colorbar": {
              "outlinewidth": 0,
              "ticks": ""
             }
            },
            "type": "scattercarpet"
           }
          ],
          "scattergeo": [
           {
            "marker": {
             "colorbar": {
              "outlinewidth": 0,
              "ticks": ""
             }
            },
            "type": "scattergeo"
           }
          ],
          "scattergl": [
           {
            "marker": {
             "colorbar": {
              "outlinewidth": 0,
              "ticks": ""
             }
            },
            "type": "scattergl"
           }
          ],
          "scattermapbox": [
           {
            "marker": {
             "colorbar": {
              "outlinewidth": 0,
              "ticks": ""
             }
            },
            "type": "scattermapbox"
           }
          ],
          "scatterpolar": [
           {
            "marker": {
             "colorbar": {
              "outlinewidth": 0,
              "ticks": ""
             }
            },
            "type": "scatterpolar"
           }
          ],
          "scatterpolargl": [
           {
            "marker": {
             "colorbar": {
              "outlinewidth": 0,
              "ticks": ""
             }
            },
            "type": "scatterpolargl"
           }
          ],
          "scatterternary": [
           {
            "marker": {
             "colorbar": {
              "outlinewidth": 0,
              "ticks": ""
             }
            },
            "type": "scatterternary"
           }
          ],
          "surface": [
           {
            "colorbar": {
             "outlinewidth": 0,
             "ticks": ""
            },
            "colorscale": [
             [
              0,
              "#0d0887"
             ],
             [
              0.1111111111111111,
              "#46039f"
             ],
             [
              0.2222222222222222,
              "#7201a8"
             ],
             [
              0.3333333333333333,
              "#9c179e"
             ],
             [
              0.4444444444444444,
              "#bd3786"
             ],
             [
              0.5555555555555556,
              "#d8576b"
             ],
             [
              0.6666666666666666,
              "#ed7953"
             ],
             [
              0.7777777777777778,
              "#fb9f3a"
             ],
             [
              0.8888888888888888,
              "#fdca26"
             ],
             [
              1,
              "#f0f921"
             ]
            ],
            "type": "surface"
           }
          ],
          "table": [
           {
            "cells": {
             "fill": {
              "color": "#EBF0F8"
             },
             "line": {
              "color": "white"
             }
            },
            "header": {
             "fill": {
              "color": "#C8D4E3"
             },
             "line": {
              "color": "white"
             }
            },
            "type": "table"
           }
          ]
         },
         "layout": {
          "annotationdefaults": {
           "arrowcolor": "#2a3f5f",
           "arrowhead": 0,
           "arrowwidth": 1
          },
          "autotypenumbers": "strict",
          "coloraxis": {
           "colorbar": {
            "outlinewidth": 0,
            "ticks": ""
           }
          },
          "colorscale": {
           "diverging": [
            [
             0,
             "#8e0152"
            ],
            [
             0.1,
             "#c51b7d"
            ],
            [
             0.2,
             "#de77ae"
            ],
            [
             0.3,
             "#f1b6da"
            ],
            [
             0.4,
             "#fde0ef"
            ],
            [
             0.5,
             "#f7f7f7"
            ],
            [
             0.6,
             "#e6f5d0"
            ],
            [
             0.7,
             "#b8e186"
            ],
            [
             0.8,
             "#7fbc41"
            ],
            [
             0.9,
             "#4d9221"
            ],
            [
             1,
             "#276419"
            ]
           ],
           "sequential": [
            [
             0,
             "#0d0887"
            ],
            [
             0.1111111111111111,
             "#46039f"
            ],
            [
             0.2222222222222222,
             "#7201a8"
            ],
            [
             0.3333333333333333,
             "#9c179e"
            ],
            [
             0.4444444444444444,
             "#bd3786"
            ],
            [
             0.5555555555555556,
             "#d8576b"
            ],
            [
             0.6666666666666666,
             "#ed7953"
            ],
            [
             0.7777777777777778,
             "#fb9f3a"
            ],
            [
             0.8888888888888888,
             "#fdca26"
            ],
            [
             1,
             "#f0f921"
            ]
           ],
           "sequentialminus": [
            [
             0,
             "#0d0887"
            ],
            [
             0.1111111111111111,
             "#46039f"
            ],
            [
             0.2222222222222222,
             "#7201a8"
            ],
            [
             0.3333333333333333,
             "#9c179e"
            ],
            [
             0.4444444444444444,
             "#bd3786"
            ],
            [
             0.5555555555555556,
             "#d8576b"
            ],
            [
             0.6666666666666666,
             "#ed7953"
            ],
            [
             0.7777777777777778,
             "#fb9f3a"
            ],
            [
             0.8888888888888888,
             "#fdca26"
            ],
            [
             1,
             "#f0f921"
            ]
           ]
          },
          "colorway": [
           "#636efa",
           "#EF553B",
           "#00cc96",
           "#ab63fa",
           "#FFA15A",
           "#19d3f3",
           "#FF6692",
           "#B6E880",
           "#FF97FF",
           "#FECB52"
          ],
          "font": {
           "color": "#2a3f5f"
          },
          "geo": {
           "bgcolor": "white",
           "lakecolor": "white",
           "landcolor": "#E5ECF6",
           "showlakes": true,
           "showland": true,
           "subunitcolor": "white"
          },
          "hoverlabel": {
           "align": "left"
          },
          "hovermode": "closest",
          "mapbox": {
           "style": "light"
          },
          "paper_bgcolor": "white",
          "plot_bgcolor": "#E5ECF6",
          "polar": {
           "angularaxis": {
            "gridcolor": "white",
            "linecolor": "white",
            "ticks": ""
           },
           "bgcolor": "#E5ECF6",
           "radialaxis": {
            "gridcolor": "white",
            "linecolor": "white",
            "ticks": ""
           }
          },
          "scene": {
           "xaxis": {
            "backgroundcolor": "#E5ECF6",
            "gridcolor": "white",
            "gridwidth": 2,
            "linecolor": "white",
            "showbackground": true,
            "ticks": "",
            "zerolinecolor": "white"
           },
           "yaxis": {
            "backgroundcolor": "#E5ECF6",
            "gridcolor": "white",
            "gridwidth": 2,
            "linecolor": "white",
            "showbackground": true,
            "ticks": "",
            "zerolinecolor": "white"
           },
           "zaxis": {
            "backgroundcolor": "#E5ECF6",
            "gridcolor": "white",
            "gridwidth": 2,
            "linecolor": "white",
            "showbackground": true,
            "ticks": "",
            "zerolinecolor": "white"
           }
          },
          "shapedefaults": {
           "line": {
            "color": "#2a3f5f"
           }
          },
          "ternary": {
           "aaxis": {
            "gridcolor": "white",
            "linecolor": "white",
            "ticks": ""
           },
           "baxis": {
            "gridcolor": "white",
            "linecolor": "white",
            "ticks": ""
           },
           "bgcolor": "#E5ECF6",
           "caxis": {
            "gridcolor": "white",
            "linecolor": "white",
            "ticks": ""
           }
          },
          "title": {
           "x": 0.05
          },
          "xaxis": {
           "automargin": true,
           "gridcolor": "white",
           "linecolor": "white",
           "ticks": "",
           "title": {
            "standoff": 15
           },
           "zerolinecolor": "white",
           "zerolinewidth": 2
          },
          "yaxis": {
           "automargin": true,
           "gridcolor": "white",
           "linecolor": "white",
           "ticks": "",
           "title": {
            "standoff": 15
           },
           "zerolinecolor": "white",
           "zerolinewidth": 2
          }
         }
        },
        "title": {
         "text": "3D Plot of Sharpe Ratios"
        }
       }
      }
     },
     "metadata": {},
     "output_type": "display_data"
    }
   ],
   "source": [
    "# Create a 3D surface plot\n",
    "fig = go.Figure(data=[go.Surface(z=sharpe_ratios, x=rsi_thresholds, y=rsi_days_lengths)])\n",
    "fig.update_layout(\n",
    "    title='3D Plot of Sharpe Ratios',\n",
    "    scene=dict(\n",
    "        xaxis_title='RSI Thresholds',\n",
    "        yaxis_title='RSI Days Lengths',\n",
    "        zaxis_title='Sharpe Ratio',\n",
    "        camera=dict(eye=dict(x=1.5, y=1.5, z=1.5))  # Adjust camera view\n",
    "    ),\n",
    "    margin=dict(l=60, r=20, b=60, t=40),  # Adjust margins\n",
    ")\n",
    "fig.show()"
   ]
  },
  {
   "cell_type": "code",
   "execution_count": 29,
   "metadata": {},
   "outputs": [
    {
     "data": {
      "image/png": "[encoded data removed]",
      "text/plain": [
       "<Figure size 800x400 with 1 Axes>"
      ]
     },
     "metadata": {},
     "output_type": "display_data"
    },
    {
     "name": "stdout",
     "output_type": "stream",
     "text": [
      "Strategy Total Return: 5593.49%\n",
      "Strategy Annualized Return: 0.11%\n",
      "Strategy Max Drawdown: -30.95%\n",
      "Strategy Sharpe Ratio: 2.09\n",
      "Benchmark Total Return: 17764.40%\n",
      "Benchmark Annualized Return: 0.14%\n",
      "Benchmark Max Drawdown: -82.90%\n",
      "Benchmark Sharpe Ratio: 1.37\n"
     ]
    }
   ],
   "source": [
    "# plot optimum sr\n",
    "max_indices = np.unravel_index(np.argmax(sharpe_ratios), sharpe_ratios.shape)  # Get the indices of the max Sharpe Ratio\n",
    "rsi_days_length = rsi_days_lengths[max_indices[0]]  # Corresponding RSI Days Length\n",
    "rsi_threshold = rsi_thresholds[max_indices[1]]  # Corresponding RSI Threshold\n",
    "strategy_df = create_strategy(data)\n",
    "strategy_tr, strategy_ar, strategy_max_dd, strategy_sr = calculate_performace_stats(strategy_df)\n",
    "\n",
    "# Plot cumulative returns\n",
    "plt.figure(figsize=(8, 4))\n",
    "plt.plot(strategy_df['Strategy Cumulative'], label='Strategy')\n",
    "plt.plot(strategy_df['Benchmark Cumulative'], label='Benchmark', linestyle='--')\n",
    "plt.title(f\"Cumulative Returns: RSI < {rsi_threshold}, {rsi_days_length}-Days, Strategy vs. Benchmark\")\n",
    "plt.xlabel(\"Date\")\n",
    "plt.ylabel(\"Cumulative Return\")\n",
    "plt.legend()\n",
    "plt.grid(linestyle=\"--\",alpha=0.3)\n",
    "plt.show()\n",
    "\n",
    "# Print key performance metrics\n",
    "print(f\"Strategy Total Return: {strategy_tr:.2%}\")\n",
    "print(f\"Strategy Annualized Return: {strategy_ar:.2%}\")\n",
    "print(f\"Strategy Max Drawdown: {strategy_max_dd:.2%}\")\n",
    "print(f\"Strategy Sharpe Ratio: {strategy_sr:.2f}\")\n",
    "print(f\"Benchmark Total Return: {benchmark_total_return:.2%}\")\n",
    "print(f\"Benchmark Annualized Return: {benchmark_annualized_return:.2%}\")\n",
    "print(f\"Benchmark Max Drawdown: {benchmark_max_drawdown:.2%}\")\n",
    "print(f\"Benchmark Sharpe Ratio: {benchmark_sharpe_ratio:.2f}\")"
   ]
  }
 ],
 "metadata": {
  "kernelspec": {
   "display_name": ".venv",
   "language": "python",
   "name": "python3"
  },
  "language_info": {
   "codemirror_mode": {
    "name": "ipython",
    "version": 3
   },
   "file_extension": ".py",
   "mimetype": "text/x-python",
   "name": "python",
   "nbconvert_exporter": "python",
   "pygments_lexer": "ipython3",
   "version": "3.9.13"
  }
 },
 "nbformat": 4,
 "nbformat_minor": 2
}
